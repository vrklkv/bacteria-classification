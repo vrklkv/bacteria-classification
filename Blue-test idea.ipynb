{
 "cells": [
  {
   "cell_type": "code",
   "execution_count": 1,
   "metadata": {},
   "outputs": [],
   "source": [
    "%matplotlib inline\n",
    "\n",
    "import os\n",
    "\n",
    "import pandas as pd\n",
    "import seaborn as sns\n",
    "import numpy as np\n",
    "import scipy.stats as stats\n",
    "\n",
    "import matplotlib as mpl\n",
    "import matplotlib.pyplot as plt\n",
    "\n",
    "import cv2"
   ]
  },
  {
   "cell_type": "markdown",
   "metadata": {},
   "source": [
    "Creating arrays for the Blue channel"
   ]
  },
  {
   "cell_type": "code",
   "execution_count": 2,
   "metadata": {},
   "outputs": [],
   "source": [
    "pos_B_data=np.array([])\n",
    "neg_B_data=np.array([])\n",
    "B_data=np.array([])"
   ]
  },
  {
   "cell_type": "code",
   "execution_count": 3,
   "metadata": {},
   "outputs": [
    {
     "data": {
      "text/plain": [
       "'\\nprint(R_data) \\nprint(np.size(R_data)) \\n'"
      ]
     },
     "execution_count": 3,
     "metadata": {},
     "output_type": "execute_result"
    }
   ],
   "source": [
    "directory = 'negative'\n",
    "i=0\n",
    "for file in os.listdir(directory):\n",
    "    filename = os.fsdecode(file)\n",
    "    f = os.path.join(directory, filename)  \n",
    "    bacteria = cv2.imread(f)\n",
    "    neg_B_data=np.append(neg_B_data,[np.array(bacteria[:,:,2].flatten())])\n",
    "    #print(i)\n",
    "    i+=1\n",
    "\n",
    "directory = 'positive1'\n",
    "i=0\n",
    "for file in os.listdir(directory):\n",
    "    filename = os.fsdecode(file)\n",
    "    f = os.path.join(directory, filename)     \n",
    "    bacteria = cv2.imread(f)\n",
    "    pos_B_data=np.append(pos_B_data,[np.array(bacteria[:,:,2].flatten())])\n",
    "    #print(i)\n",
    "    i+=1\n",
    "B_data=np.append(neg_B_data,pos_B_data)\n",
    "'''\n",
    "print(R_data) \n",
    "print(np.size(R_data)) \n",
    "'''"
   ]
  },
  {
   "cell_type": "code",
   "execution_count": 4,
   "metadata": {},
   "outputs": [],
   "source": [
    "neg_B_mean=np.mean(neg_B_data)\n",
    "pos_B_mean=np.mean(pos_B_data)\n",
    "B_mean=np.mean(B_data)\n",
    "\n",
    "B_com=''\n",
    "if (neg_B_mean<B_mean):\n",
    "    B_com='NEG IS LESS'\n",
    "else:\n",
    "    B_com='POS IS LESS'"
   ]
  },
  {
   "cell_type": "markdown",
   "metadata": {},
   "source": [
    "Consider the mean for different channels and types (G-/G+)"
   ]
  },
  {
   "cell_type": "code",
   "execution_count": 5,
   "metadata": {},
   "outputs": [
    {
     "data": {
      "text/html": [
       "<div>\n",
       "<style scoped>\n",
       "    .dataframe tbody tr th:only-of-type {\n",
       "        vertical-align: middle;\n",
       "    }\n",
       "\n",
       "    .dataframe tbody tr th {\n",
       "        vertical-align: top;\n",
       "    }\n",
       "\n",
       "    .dataframe thead th {\n",
       "        text-align: right;\n",
       "    }\n",
       "</style>\n",
       "<table border=\"1\" class=\"dataframe\">\n",
       "  <thead>\n",
       "    <tr style=\"text-align: right;\">\n",
       "      <th></th>\n",
       "      <th>neg_mean</th>\n",
       "      <th>pos_mean</th>\n",
       "      <th>common_mean</th>\n",
       "      <th>comparison</th>\n",
       "    </tr>\n",
       "  </thead>\n",
       "  <tbody>\n",
       "    <tr>\n",
       "      <th>B</th>\n",
       "      <td>252.026905</td>\n",
       "      <td>232.955019</td>\n",
       "      <td>241.624058</td>\n",
       "      <td>POS IS LESS</td>\n",
       "    </tr>\n",
       "  </tbody>\n",
       "</table>\n",
       "</div>"
      ],
      "text/plain": [
       "     neg_mean    pos_mean  common_mean   comparison\n",
       "B  252.026905  232.955019   241.624058  POS IS LESS"
      ]
     },
     "execution_count": 5,
     "metadata": {},
     "output_type": "execute_result"
    }
   ],
   "source": [
    "data = {\n",
    "    'neg_mean': [neg_B_mean],\n",
    "    'pos_mean': [pos_B_mean],\n",
    "    'common_mean': [B_mean],\n",
    "    'comparison': [B_com]\n",
    "}\n",
    "row_labels = ['B']\n",
    "\n",
    "df = pd.DataFrame(data=data, index=row_labels)\n",
    "df"
   ]
  },
  {
   "cell_type": "markdown",
   "metadata": {},
   "source": [
    "Hypothesis: we can use the mean for channels in RGB color space to find out if our image shows G- or G+ microbiota (based on the table above)"
   ]
  },
  {
   "cell_type": "code",
   "execution_count": 8,
   "metadata": {},
   "outputs": [],
   "source": [
    "def B_mean_test(nameline):\n",
    "    global B_data\n",
    "    bact = cv2.imread(nameline)\n",
    "    #B_data=np.append(B_data,[np.array(bact[:,:,2].flatten())])\n",
    "\n",
    "    curr_B_mean=np.mean([np.array(bact[:,:,2].flatten())])\n",
    "    B_mean=np.mean(B_data)\n",
    "\n",
    "    B_res=''\n",
    "    if (curr_B_mean>B_mean):\n",
    "        B_res='NEG'\n",
    "    else:\n",
    "        B_res='POS'\n",
    "\n",
    "    data = {\n",
    "    'current mean': [curr_B_mean],\n",
    "    'common mean': [B_mean],\n",
    "    'test result': [B_res],\n",
    "    'filename': [nameline]\n",
    "    }\n",
    "    row_labels = ['B-test']\n",
    "\n",
    "    df = pd.DataFrame(data=data, index=row_labels)\n",
    "    print('\\n')\n",
    "    print(df)\n"
   ]
  },
  {
   "cell_type": "markdown",
   "metadata": {},
   "source": [
    "Let's take a look on some tests"
   ]
  },
  {
   "cell_type": "code",
   "execution_count": 9,
   "metadata": {},
   "outputs": [
    {
     "name": "stdout",
     "output_type": "stream",
     "text": [
      "\n",
      "\n",
      "        current mean  common mean test result  filename\n",
      "B-test    239.595305   241.624058         POS  NEG0.jpg\n",
      "\n",
      "\n",
      "        current mean  common mean test result  filename\n",
      "B-test    253.430902   241.624058         NEG  NEG1.jpg\n",
      "\n",
      "\n",
      "        current mean  common mean test result  filename\n",
      "B-test    238.101061   241.624058         POS  POS0.jpg\n",
      "\n",
      "\n",
      "        current mean  common mean test result  filename\n",
      "B-test     199.62535   241.624058         POS  POS1.jpg\n"
     ]
    }
   ],
   "source": [
    "B_mean_test('NEG0.jpg')\n",
    "B_mean_test('NEG1.jpg')\n",
    "B_mean_test('POS0.jpg')\n",
    "B_mean_test('POS1.jpg')"
   ]
  }
 ],
 "metadata": {
  "kernelspec": {
   "display_name": "base",
   "language": "python",
   "name": "python3"
  },
  "language_info": {
   "codemirror_mode": {
    "name": "ipython",
    "version": 3
   },
   "file_extension": ".py",
   "mimetype": "text/x-python",
   "name": "python",
   "nbconvert_exporter": "python",
   "pygments_lexer": "ipython3",
   "version": "3.11.9"
  },
  "orig_nbformat": 4,
  "vscode": {
   "interpreter": {
    "hash": "3781694907da99e461828f6657e2353ade237b25cc77a111a58d1bb2a6beb070"
   }
  }
 },
 "nbformat": 4,
 "nbformat_minor": 2
}
