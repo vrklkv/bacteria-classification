{
 "cells": [
  {
   "cell_type": "code",
   "execution_count": 41,
   "metadata": {},
   "outputs": [],
   "source": [
    "%matplotlib inline\n",
    "\n",
    "import os\n",
    "\n",
    "import pandas as pd\n",
    "import seaborn as sns\n",
    "import numpy as np\n",
    "import scipy.stats as stats\n",
    "\n",
    "import matplotlib as mpl\n",
    "import matplotlib.pyplot as plt\n",
    "\n",
    "from skimage import exposure \n",
    "from skimage.exposure import match_histograms \n",
    "\n",
    "import cv2"
   ]
  },
  {
   "cell_type": "markdown",
   "metadata": {},
   "source": [
    "Creating separate arrays for different channels"
   ]
  },
  {
   "cell_type": "code",
   "execution_count": 42,
   "metadata": {},
   "outputs": [],
   "source": [
    "pos_R_data=np.array([])\n",
    "pos_G_data=np.array([])\n",
    "pos_B_data=np.array([])\n",
    "neg_R_data=np.array([])\n",
    "neg_G_data=np.array([])\n",
    "neg_B_data=np.array([])\n",
    "R_data=np.array([])\n",
    "G_data=np.array([])\n",
    "B_data=np.array([])"
   ]
  },
  {
   "cell_type": "code",
   "execution_count": 43,
   "metadata": {},
   "outputs": [
    {
     "data": {
      "text/plain": [
       "'\\nprint(neg_R_data) \\nprint(np.size(neg_R_data)) \\nprint(pos_R_data) \\nprint(np.size(pos_R_data)) \\nprint(R_data) \\nprint(np.size(R_data)) \\n'"
      ]
     },
     "execution_count": 43,
     "metadata": {},
     "output_type": "execute_result"
    }
   ],
   "source": [
    "directory = 'negative'\n",
    "i=0\n",
    "for file in os.listdir(directory):\n",
    "    filename = os.fsdecode(file)\n",
    "    f = os.path.join(directory, filename)  \n",
    "    bacteria = cv2.imread(f)\n",
    "    neg_R_data=np.append(neg_R_data,[np.array(bacteria[:,:,0].flatten())])\n",
    "    neg_G_data=np.append(neg_G_data,[np.array(bacteria[:,:,1].flatten())])\n",
    "    neg_B_data=np.append(neg_B_data,[np.array(bacteria[:,:,2].flatten())])\n",
    "    #print(i)\n",
    "    i+=1\n",
    "\n",
    "directory = 'positive1'\n",
    "i=0\n",
    "for file in os.listdir(directory):\n",
    "    filename = os.fsdecode(file)\n",
    "    f = os.path.join(directory, filename)     \n",
    "    bacteria = cv2.imread(f)\n",
    "    pos_R_data=np.append(pos_R_data,[np.array(bacteria[:,:,0].flatten())])\n",
    "    pos_G_data=np.append(pos_G_data,[np.array(bacteria[:,:,1].flatten())])\n",
    "    pos_B_data=np.append(pos_B_data,[np.array(bacteria[:,:,2].flatten())])\n",
    "    #print(i)\n",
    "    i+=1\n",
    "\n",
    "R_data=np.append(neg_R_data,pos_R_data)\n",
    "G_data=np.append(neg_G_data,pos_G_data)\n",
    "B_data=np.append(neg_B_data,pos_B_data)\n",
    "'''\n",
    "print(neg_R_data) \n",
    "print(np.size(neg_R_data)) \n",
    "print(pos_R_data) \n",
    "print(np.size(pos_R_data)) \n",
    "print(R_data) \n",
    "print(np.size(R_data)) \n",
    "'''"
   ]
  },
  {
   "cell_type": "code",
   "execution_count": 44,
   "metadata": {},
   "outputs": [],
   "source": [
    "neg_R_mean=np.mean(neg_R_data)\n",
    "neg_G_mean=np.mean(neg_G_data)\n",
    "neg_B_mean=np.mean(neg_B_data)\n",
    "pos_R_mean=np.mean(pos_R_data)\n",
    "pos_G_mean=np.mean(pos_G_data)\n",
    "pos_B_mean=np.mean(pos_B_data)\n",
    "R_mean=np.mean(R_data)\n",
    "G_mean=np.mean(G_data)\n",
    "B_mean=np.mean(B_data)\n",
    "\n",
    "R_com=''\n",
    "G_com=''\n",
    "B_com=''\n",
    "if (neg_R_mean<R_mean):\n",
    "    R_com='NEG IS LESS'\n",
    "else:\n",
    "    R_com='POS IS LESS'\n",
    "if (neg_G_mean<G_mean):\n",
    "    G_com='NEG IS LESS'\n",
    "else:\n",
    "    G_com='POS IS LESS'\n",
    "if (neg_B_mean<B_mean):\n",
    "    B_com='NEG IS LESS'\n",
    "else:\n",
    "    B_com='POS IS LESS'"
   ]
  },
  {
   "cell_type": "markdown",
   "metadata": {},
   "source": [
    "Consider the mean for different channels and types (G-/G+)"
   ]
  },
  {
   "cell_type": "code",
   "execution_count": 45,
   "metadata": {},
   "outputs": [
    {
     "data": {
      "text/html": [
       "<div>\n",
       "<style scoped>\n",
       "    .dataframe tbody tr th:only-of-type {\n",
       "        vertical-align: middle;\n",
       "    }\n",
       "\n",
       "    .dataframe tbody tr th {\n",
       "        vertical-align: top;\n",
       "    }\n",
       "\n",
       "    .dataframe thead th {\n",
       "        text-align: right;\n",
       "    }\n",
       "</style>\n",
       "<table border=\"1\" class=\"dataframe\">\n",
       "  <thead>\n",
       "    <tr style=\"text-align: right;\">\n",
       "      <th></th>\n",
       "      <th>neg_mean</th>\n",
       "      <th>pos_mean</th>\n",
       "      <th>common_mean</th>\n",
       "      <th>comparison</th>\n",
       "    </tr>\n",
       "  </thead>\n",
       "  <tbody>\n",
       "    <tr>\n",
       "      <th>R</th>\n",
       "      <td>132.644588</td>\n",
       "      <td>152.904086</td>\n",
       "      <td>143.695223</td>\n",
       "      <td>NEG IS LESS</td>\n",
       "    </tr>\n",
       "    <tr>\n",
       "      <th>G</th>\n",
       "      <td>210.259394</td>\n",
       "      <td>198.065795</td>\n",
       "      <td>203.608340</td>\n",
       "      <td>POS IS LESS</td>\n",
       "    </tr>\n",
       "    <tr>\n",
       "      <th>B</th>\n",
       "      <td>252.026905</td>\n",
       "      <td>232.955019</td>\n",
       "      <td>241.624058</td>\n",
       "      <td>POS IS LESS</td>\n",
       "    </tr>\n",
       "  </tbody>\n",
       "</table>\n",
       "</div>"
      ],
      "text/plain": [
       "     neg_mean    pos_mean  common_mean   comparison\n",
       "R  132.644588  152.904086   143.695223  NEG IS LESS\n",
       "G  210.259394  198.065795   203.608340  POS IS LESS\n",
       "B  252.026905  232.955019   241.624058  POS IS LESS"
      ]
     },
     "execution_count": 45,
     "metadata": {},
     "output_type": "execute_result"
    }
   ],
   "source": [
    "data = {\n",
    "    'neg_mean': [neg_R_mean, neg_G_mean, neg_B_mean],\n",
    "    'pos_mean': [pos_R_mean, pos_G_mean, pos_B_mean],\n",
    "    'common_mean': [R_mean, G_mean, B_mean],\n",
    "    'comparison': [R_com,G_com,B_com]\n",
    "}\n",
    "row_labels = ['R', 'G','B']\n",
    "\n",
    "df = pd.DataFrame(data=data, index=row_labels)\n",
    "df"
   ]
  },
  {
   "cell_type": "markdown",
   "metadata": {},
   "source": [
    "Hypothesis: we can use the mean for channels in RGB color space to find out if our image shows G- or G+ microbiota (based on the table above)"
   ]
  },
  {
   "cell_type": "code",
   "execution_count": 46,
   "metadata": {},
   "outputs": [],
   "source": [
    "def RGB_mean_test(nameline):\n",
    "    global R_data\n",
    "    global G_data\n",
    "    global B_data\n",
    "    bact = cv2.imread(nameline)\n",
    "    #R_data=np.append(R_data,[np.array(bact[:,:,0].flatten())])\n",
    "    #G_data=np.append(G_data,[np.array(bact[:,:,1].flatten())])\n",
    "    #B_data=np.append(B_data,[np.array(bact[:,:,2].flatten())])\n",
    "\n",
    "    curr_R_mean=np.mean([np.array(bact[:,:,0].flatten())])\n",
    "    curr_G_mean=np.mean([np.array(bact[:,:,1].flatten())])\n",
    "    curr_B_mean=np.mean([np.array(bact[:,:,2].flatten())])\n",
    "    R_mean=np.mean(R_data)\n",
    "    G_mean=np.mean(G_data)\n",
    "    B_mean=np.mean(B_data)\n",
    "\n",
    "    R_res=''\n",
    "    G_res=''\n",
    "    B_res=''\n",
    "    if (curr_R_mean<R_mean):\n",
    "        R_res='NEG'\n",
    "    else:\n",
    "        R_res='POS'\n",
    "    if (curr_G_mean>G_mean):\n",
    "        G_res='NEG'\n",
    "    else:\n",
    "        G_res='POS'\n",
    "    if (curr_B_mean>B_mean):\n",
    "        B_res='NEG'\n",
    "    else:\n",
    "        B_res='POS'\n",
    "\n",
    "    data = {\n",
    "    'current mean': [curr_R_mean, curr_G_mean, curr_B_mean],\n",
    "    'common mean': [R_mean, G_mean, B_mean],\n",
    "    'test result': [R_res,G_res,B_res]\n",
    "    }\n",
    "    row_labels = ['R-test', 'G-test','B-test']\n",
    "\n",
    "    df = pd.DataFrame(data=data, index=row_labels)\n",
    "    print(nameline)\n",
    "    print(df)\n"
   ]
  },
  {
   "cell_type": "markdown",
   "metadata": {},
   "source": [
    "Let's take a look on some tests"
   ]
  },
  {
   "cell_type": "code",
   "execution_count": 47,
   "metadata": {},
   "outputs": [
    {
     "name": "stdout",
     "output_type": "stream",
     "text": [
      "NEG0.jpg\n",
      "        current mean  common mean test result\n",
      "R-test    165.763781   143.695223         POS\n",
      "G-test    195.545281   203.608340         POS\n",
      "B-test    239.595305   241.624058         POS\n",
      "NEG1.jpg\n",
      "        current mean  common mean test result\n",
      "R-test    125.486768   143.695223         NEG\n",
      "G-test    207.361990   203.608340         NEG\n",
      "B-test    253.430902   241.624058         NEG\n",
      "POS0.jpg\n",
      "        current mean  common mean test result\n",
      "R-test    154.737813   143.695223         POS\n",
      "G-test    194.218033   203.608340         POS\n",
      "B-test    238.101061   241.624058         POS\n",
      "POS1.jpg\n",
      "        current mean  common mean test result\n",
      "R-test    138.675455   143.695223         NEG\n",
      "G-test    155.247334   203.608340         POS\n",
      "B-test    199.625350   241.624058         POS\n"
     ]
    }
   ],
   "source": [
    "RGB_mean_test('NEG0.jpg')\n",
    "RGB_mean_test('NEG1.jpg')\n",
    "RGB_mean_test('POS0.jpg')\n",
    "RGB_mean_test('POS1.jpg')"
   ]
  },
  {
   "cell_type": "markdown",
   "metadata": {},
   "source": [
    "Perhaps we should use more data to find correct common means for further comparison\n",
    "\n",
    "Perhaps the first table is incorrect due to a lack of data\n",
    "\n",
    "Or the whole idea is incorrect"
   ]
  }
 ],
 "metadata": {
  "kernelspec": {
   "display_name": "base",
   "language": "python",
   "name": "python3"
  },
  "language_info": {
   "codemirror_mode": {
    "name": "ipython",
    "version": 3
   },
   "file_extension": ".py",
   "mimetype": "text/x-python",
   "name": "python",
   "nbconvert_exporter": "python",
   "pygments_lexer": "ipython3",
   "version": "3.11.8"
  },
  "orig_nbformat": 4,
  "vscode": {
   "interpreter": {
    "hash": "3781694907da99e461828f6657e2353ade237b25cc77a111a58d1bb2a6beb070"
   }
  }
 },
 "nbformat": 4,
 "nbformat_minor": 2
}
